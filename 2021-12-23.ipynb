{
 "cells": [
  {
   "cell_type": "code",
   "execution_count": null,
   "id": "c438862e-8075-4f89-97f8-5a4b1092d75c",
   "metadata": {},
   "outputs": [],
   "source": [
    "letters = ['h', 'a', 'p', 'y', 'o', 'l', 'i', 'd', 's']\n",
    "# \"happy\"\n",
    "# \"holidays\"\n",
    "# \"hohohoho\"\n",
    "\n",
    "\n",
    "\n",
    "\n",
    "# s + y % 10 = o\n",
    "# (p + y + (s+y)//10) % 100 = h"
   ]
  }
 ],
 "metadata": {
  "kernelspec": {
   "display_name": "Python (riddler)",
   "language": "python",
   "name": "riddler"
  },
  "language_info": {
   "codemirror_mode": {
    "name": "ipython",
    "version": 3
   },
   "file_extension": ".py",
   "mimetype": "text/x-python",
   "name": "python",
   "nbconvert_exporter": "python",
   "pygments_lexer": "ipython3",
   "version": "3.10.0"
  }
 },
 "nbformat": 4,
 "nbformat_minor": 5
}
