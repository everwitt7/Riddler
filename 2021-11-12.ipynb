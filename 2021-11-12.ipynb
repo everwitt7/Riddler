{
 "cells": [
  {
   "cell_type": "markdown",
   "id": "008fc0ac-e8ca-4475-9546-c05e705db86e",
   "metadata": {},
   "source": [
    "## November 12, 2021\n",
    "https://fivethirtyeight.com/features/can-you-stick-it-to-the-genie/"
   ]
  },
  {
   "cell_type": "code",
   "execution_count": 82,
   "id": "56c5bac1-3bba-48ce-997c-d29aee7d8113",
   "metadata": {},
   "outputs": [],
   "source": [
    "import numpy as np\n",
    "import math\n",
    "import ipywidgets as widgets\n",
    "from IPython.display import display\n",
    "import seaborn as sns"
   ]
  },
  {
   "cell_type": "markdown",
   "id": "7d2ef8e8-25dd-4281-be24-f71280fe0b4c",
   "metadata": {},
   "source": [
    "### Riddler Express\n",
    "From Adam Milligan comes a puzzle about dice, dungeons and dragons (but mostly about dice):\n",
    "\n",
    "I have three dice (d4, d6, d8) on my desk that I fiddle with while working, much to the chagrin of my co-workers. For the uninitiated, the d4 is a tetrahedron that is equally likely to land on any of its four faces (numbered 1 through 4), the d6 is a cube that is equally likely to land on any of its six faces (numbered 1 through 6), and the d8 is an octahedron that is equally likely to land on any of its eight faces (numbered 1 through 8).\n",
    "\n",
    "I like to play a game in which I roll all three dice in “numerical” order: d4, then d6 and then d8. I win this game when the three rolls form a strictly increasing sequence (such as 2-4-7, but not 2-4-4). What is my probability of winning?\n",
    "\n",
    "Extra credit: Instead of three dice, I now have six dice: d4, d6, d8, d10, d12 and d20. If I roll all six dice in “numerical” order, what is the probability I’ll get a strictly increasing sequence?"
   ]
  },
  {
   "cell_type": "code",
   "execution_count": 20,
   "id": "fb4563e1-7060-40f9-9fe3-01d6d5ae7a22",
   "metadata": {},
   "outputs": [
    {
     "name": "stdout",
     "output_type": "stream",
     "text": [
      "0.250087\n"
     ]
    }
   ],
   "source": [
    "# Simulate Reality\n",
    "# Play around with different number, the more trials you do the less variance you have\n",
    "trials = 1000000\n",
    "\n",
    "# np.random.randint(low, high, size, dtype=int) randomly selects an integer from the range [low, high), and repeats this `size` times\n",
    "d4 = np.random.randint(low=1, high=5, size=trials, dtype=int)\n",
    "d6 = np.random.randint(low=1, high=7, size=trials, dtype=int)\n",
    "d8 = np.random.randint(low=1, high=9, size=trials, dtype=int)\n",
    "\n",
    "# we now have 3 arrays of length `num_sims` and need to check if d4 < d6 < d8\n",
    "success = 0\n",
    "for i in range(trials):\n",
    "    if d4[i] < d6[i] < d8[i]:\n",
    "        success += 1\n",
    "        \n",
    "# Solution ~ 0.25, 1/4\n",
    "print(success/trials)"
   ]
  },
  {
   "cell_type": "code",
   "execution_count": 22,
   "id": "0b271449-a869-4e74-89a3-0ad337c96195",
   "metadata": {},
   "outputs": [
    {
     "name": "stdout",
     "output_type": "stream",
     "text": [
      "0.011741\n"
     ]
    }
   ],
   "source": [
    "# Extra Credit\n",
    "trials = 1000000\n",
    "\n",
    "d4 = np.random.randint(low=1, high=5, size=trials, dtype=int)\n",
    "d6 = np.random.randint(low=1, high=7, size=trials, dtype=int)\n",
    "d8 = np.random.randint(low=1, high=9, size=trials, dtype=int)\n",
    "d10 = np.random.randint(low=1, high=11, size=trials, dtype=int)\n",
    "d12 = np.random.randint(low=1, high=13, size=trials, dtype=int)\n",
    "d20 = np.random.randint(low=1, high=21, size=trials, dtype=int)\n",
    "\n",
    "success = 0\n",
    "for i in range(trials):\n",
    "    if d4[i] < d6[i] < d8[i] < d10[i] < d12[i] < d20[i]:\n",
    "        success += 1\n",
    "\n",
    "# Solution ~ .011741\n",
    "print(success/trials)"
   ]
  },
  {
   "cell_type": "markdown",
   "id": "2beb2099-ec89-4d95-9ba0-7119f07c8bde",
   "metadata": {},
   "source": [
    "#### Mathematical Explanation\n",
    "\n",
    "Simulating reality is a very effective way to get the correct answer. Sometimes proving things are significantly more difficult than just sampling from reality - here is a question to help prove my point: 6 people started working together, and every day they randomly split into pairs and get lunch with each other. On average, how many days before they each get lunch with each other? What if you begin with 8 people?\n",
    "\n",
    "However, we can also derive the answer to this question analytically, and it shouldn't be as messy as the problem I described above. We can think about all possible combinations that may occur. $ 4 * 6 * 8 = 192 $ outcomes.\n",
    "\n",
    "Let us just consider 2 dice for now, the d4 and d6\n",
    "\n",
    "If we roll a 1 on the d4 die, then we on the d6 die we can roll a 2, 3, 4, 5, 6  \n",
    "If we roll a 2 on the d4 die, then we on the d6 die we can roll a 3, 4, 5, 6  \n",
    "If we roll a 3 on the d4 die, then we on the d6 die we can roll a 4, 5, 6  \n",
    "If we roll a 4 on the d4 die, then we on the d6 die we can roll a 5, 6  \n",
    "\n",
    "All possible successes denoted d4d6 are: 12, 13, 14, 15, 16, 23, 24, 25, 26, 34, 35, 36, 45, 46 (14 possible solutions)\n",
    "All possible outcomes are 4 * 6 = 24\n",
    "\n",
    "So the answer is 14/24, but maybe we can rewrite this into some equation that will generalize when we add more dice?\n",
    "\n",
    "Let us try and write the possible successes as a summation. If we roll _i_ on the d4 die, then we can roll _i+1_ on the d6 die:\n",
    "\n",
    "$$ { \\frac{\\sum_{i=1}^4\\sum_{j=i+1}^61}{4 * 6}} $$\n",
    "\n",
    "We include a 1 because we want to a count of possible solutions. Let's program this equation in python and see what we get."
   ]
  },
  {
   "cell_type": "code",
   "execution_count": 60,
   "id": "c6c5cfff-71ff-467a-b7e7-52b907815371",
   "metadata": {},
   "outputs": [
    {
     "name": "stdout",
     "output_type": "stream",
     "text": [
      "Successess: 14, Outcomes: 24 \n",
      "Probability of Ascending with d4 and d6 dice: 0.58\n"
     ]
    }
   ],
   "source": [
    "# define the number of sides on each die\n",
    "d4, d6 = 4, 6\n",
    "\n",
    "# define the number of successes and outcomes\n",
    "successes = 0\n",
    "outcomes = d4 * d6\n",
    "\n",
    "# range is [start, stop), where start is included and stop is excluded, which is why we need to add 1\n",
    "for i in range(1, d4+1):\n",
    "    for j in range(i+1, d6+1):\n",
    "        successes += 1\n",
    "\n",
    "print(f\"Successess: {successes}, Outcomes: {outcomes} \\nProbability of Ascending with d4 and d6 dice: {successes/outcomes:.2f}\")"
   ]
  },
  {
   "cell_type": "markdown",
   "id": "52ea4e9f-59b8-4ee3-9d6d-10ce576e0284",
   "metadata": {},
   "source": [
    "Awesome, we solved a simpler problem, now how do we add in a third dice?\n",
    "\n",
    "roll 1 on the d4 die, roll 2 on the d6 die, on the d8 die we can roll 3, 4, 5, 6, 7, 8  \n",
    "roll 1 on the d4 die, roll 3 on the d6 die, on the d8 die we can roll 4, 5, 6, 7, 8  \n",
    "roll 1 on the d4 die, roll 4 on the d6 die, on the d8 die we can roll 5, 6, 7, 8  \n",
    "roll 1 on the d4 die, roll 5 on the d6 die, on the d8 die we can roll 6, 7, 8  \n",
    "roll 1 on the d4 die, roll 6 on the d6 die, on the d8 die we can roll 7, 8  \n",
    "\n",
    "roll 2 on the d4 die, roll 3 on the d6 die, on the d8 die we can roll 4, 5, 6, 7, 8  \n",
    "roll 2 on the d4 die, roll 4 on the d6 die, on the d8 die we can roll 5, 6, 7, 8  \n",
    "roll 2 on the d4 die, roll 5 on the d6 die, on the d8 die we can roll 6, 7, 8  \n",
    "roll 2 on the d4 die, roll 6 on the d6 die, on the d8 die we can roll 7, 8  \n",
    "\n",
    "Do you notice a pattern for the d6 and d8 dice that is similar to the d4 and d6 dice we did in the previous example? You might notice that we can write another summation - the d6 die has to be at least 1 larger than the d4 die, and the d8 die has to be at least 1 larger than the d6 die.\n",
    "\n",
    "$$ { \\frac{\\sum_{i=1}^4\\sum_{j=i+1}^6\\sum_{k=j+1}^81}{4 * 6 * 8}} $$\n"
   ]
  },
  {
   "cell_type": "code",
   "execution_count": 59,
   "id": "2897600c-473b-42c0-9f3d-51f231500f7f",
   "metadata": {},
   "outputs": [
    {
     "data": {
      "text/plain": [
       "0.25"
      ]
     },
     "execution_count": 65,
     "metadata": {},
     "output_type": "execute_result"
    }
   ],
   "source": [
    "# Given we are going to run the same code at least twice more, let's write a function!\n",
    "\n",
    "# we use d1, d2, d3 denote die 1, 2, and 3, and the integer we pass in represents the number of sides\n",
    "def probability_increasing(d1: int = 4, d2: int = 6, d3: int = 8) -> float:\n",
    "    successes = 0\n",
    "    for i in range(1, d1+1):\n",
    "        for j in range(i+1, d2+1):\n",
    "            for k in range(j+1, d3+1):\n",
    "                successes += 1\n",
    "    return successes / (d1 * d2 * d3)\n",
    "\n",
    "probability_increasing(4, 6, 8)"
   ]
  },
  {
   "cell_type": "markdown",
   "id": "91089428-b4ce-48da-b0af-e96eea5e17b4",
   "metadata": {},
   "source": [
    "Hey look, we got 0.25, which is what the same answer we got by simulating dice rolls in the first place! Awesome, now how do we mathematically prove the extra credit? We just continue the chain summation!\n",
    "\n",
    "$$ { \\frac{\\sum_{i=1}^4\\sum_{j=i+1}^6\\sum_{k=j+1}^8\\sum_{x=k+1}^{10}\\sum_{y=x+1}^{12}\\sum_{z=y+1}^{20}1}{4 * 6 * 8 * 10 * 12 * 20}} $$"
   ]
  },
  {
   "cell_type": "code",
   "execution_count": 67,
   "id": "e3d0cdee-2f46-4e38-a0e6-b691656c5b92",
   "metadata": {},
   "outputs": [
    {
     "data": {
      "text/plain": [
       "0.011792534722222222"
      ]
     },
     "execution_count": 67,
     "metadata": {},
     "output_type": "execute_result"
    }
   ],
   "source": [
    "# Notice how our function doesn't actually work for this, we want to specify a variable amount of dice, how can we do that?\n",
    "# There is a special argument we can pass into our function called `*args` which is useful for this exact scenario\n",
    "# `*args` lets us pass in as many arguments as we want, we just need to know how to handle all this inputs in the function itself\n",
    "\n",
    "# example of what `*args` is exactly, feel free to play around with the input\n",
    "# def ex(*args):\n",
    "#     print(args)\n",
    "#     for arg in args:\n",
    "#         print(arg)\n",
    "# ex(1, 2, 3, \"string\")\n",
    "\n",
    "\n",
    "# we know args will basically be a list of integers, where the integer represents the face of a die\n",
    "# I figured there must be some way to handle any number of inputs, which there most definitely is, but the solution eludes me right now\n",
    "# def probability_n_increasing(*args):\n",
    "d1, d2, d3, d4, d5, d6 = 4, 6, 8, 10, 12, 20\n",
    "successes = 0\n",
    "for i in range(1, d1+1):\n",
    "    for j in range(i+1, d2+1):\n",
    "        for k in range(j+1, d3+1):\n",
    "            for x in range(k+1, d4+1):\n",
    "                for y in range(x+1, d5+1):\n",
    "                    for z in range(y+1, d6+1):\n",
    "                        successes += 1\n",
    "successes / (d1 * d2 * d3 * d4 * d5 * d6)\n",
    "# you can see the analytical solution is quite similar to the simulated solution"
   ]
  },
  {
   "cell_type": "markdown",
   "id": "80e5e11f-6645-43c5-be9a-7f6895f00276",
   "metadata": {
    "tags": []
   },
   "source": [
    "### Riddler Classic\n",
    "One day you stumble across a magic genie, who says that if you play a simple game with him, you could win fabulous riches. You take the genie up on his offer, and he hands you a stick of length 1. He says that behind his back is another stick, with a random length between 0 and 1 (chosen uniformly over that interval).\n",
    "\n",
    "Next, you must break your stick into two pieces and present one of those pieces to the genie. If that piece is longer than the genie’s hidden stick, then you win a prize of \\\\$1 million times the length of your remaining piece. For example, if you present to the genie a length of 0.4, and that’s longer than the genie’s stick, then you win \\\\$1 million times 0.6, or \\\\$600,000. However, if the genie’s stick is longer, then you win nothing.\n",
    "\n",
    "Being a regular reader of The Riddler, you crunch some numbers and prepare to break your stick in half. But then you have a thought. You ask the genie if you can have more than one turn. For example, if you present the genie with a length of 0.4, but the genie’s stick is longer, can you break off a piece of the remaining length of 0.6 — say, a length of 0.5 — and then present that to the genie? To keep things fair, your winnings will still be proportional to the leftover length. So had the genie’s length indeed been between 0.4 and 0.5, your first and second guesses, then the remaining length would have been 0.1, and you would have won \\\\$100,000.\n",
    "\n",
    "The genie doesn’t think any of this really matters and says you can have as many turns as you desire. If your goal is to maximize your expected winnings, what will your strategy be? And how much money would you expect to win on average?"
   ]
  },
  {
   "cell_type": "code",
   "execution_count": 47,
   "id": "813139db-ecee-4144-9281-9cfec92079e3",
   "metadata": {},
   "outputs": [],
   "source": [
    "# let us simulate trials where we only break once down the \n",
    "def sim_stick_break(stick: float, trials: int = 50_000) -> float:\n",
    "    reward = 0\n",
    "    for _ in range(trials):\n",
    "        g_stick = np.random.uniform(low=0, high=1)\n",
    "        if stick > g_stick:\n",
    "            reward += (1 - stick) * (1_000_000)\n",
    "    return reward / trials"
   ]
  },
  {
   "cell_type": "code",
   "execution_count": 63,
   "id": "a281704b-df76-4ba3-b7df-daf59b763107",
   "metadata": {},
   "outputs": [
    {
     "data": {
      "application/vnd.jupyter.widget-view+json": {
       "model_id": "63673d3e0ca34c0092bcce23ec43bda6",
       "version_major": 2,
       "version_minor": 0
      },
      "text/plain": [
       "FloatSlider(value=0.5, max=1.0, step=0.01)"
      ]
     },
     "metadata": {},
     "output_type": "display_data"
    }
   ],
   "source": [
    "# play around with the value of the slider and run the next cell\n",
    "stick_length = widgets.FloatSlider(value=0.3, min=0, max=1.0, step=0.01)\n",
    "display(stick_length)"
   ]
  },
  {
   "cell_type": "code",
   "execution_count": null,
   "id": "43bc6f3c-0595-486f-b3f6-fe9f820cbc84",
   "metadata": {},
   "outputs": [
    {
     "data": {
      "text/plain": [
       "210028.0"
      ]
     },
     "execution_count": 76,
     "metadata": {},
     "output_type": "execute_result"
    }
   ],
   "source": [
    "sim_stick_break(stick_length.value)"
   ]
  },
  {
   "cell_type": "markdown",
   "id": "a4e305f7-88a4-4fbe-993d-80ea47feb45b",
   "metadata": {},
   "source": [
    "0.1 has an expected reward ~ 90k  \n",
    "0.2 has an expected reward ~ 160k  \n",
    "0.3 has an expected reward ~ 210k  \n",
    "0.4 has an expected reward ~ 240k  \n",
    "0.5 has an expected reward ~ 250k  \n",
    "0.6 has an expected reward ~ 240k  \n",
    "0.7 has an expected reward ~ 210k  \n",
    "0.8 has an expected reward ~ 160k  \n",
    "0.9 has an expected reward ~ 90k  \n",
    "\n",
    "We could have just used a for loop, but the goal was to start at some value and drag the slider towards the max. Does choosing a stick of shorter length with two splits yield a better expected reward, and if so what is optimal? If we hold the stick fixed at length 0.4, then we need to get an expected reward of more than 10k to improve upon the solution of splitting the stick at length 0.5. So in the given example, if we split our stick into lengths 0.4 and 0.6, and g_stick > 0.4, then we split 0.6 into 0.5 and 0.1. Does this produce an expected reward greater than 10k (which is what we would nee to improve upon the 0.5 length stick)? We know g_stick > 0.4, so we only have 0.2 length of stick to play with. \n",
    "\n",
    "We know that 4/10 of the time we get 600k. 1/10 of the time we get 100k and 1/2 of the time we get nothing. So the analytical expected value is 240k + 10k = 250k. Would you look at that we do not improve but we do break even! What about if we split the stick so that we had lengths 0.45 and 0.15. Then 4/10 of the time we get 600k, 1/20 we get 150k, and 11/20 of the time we get nothing. The expected value decreases now because 240k + 7.5k = 247.5k < 250k.\n",
    "\n",
    "What about 0.3 let's break the remaining stick of length 0.7 into length 0.5 and 0.2. Then we get 3/10 of the time 700k, 2/10 we get 200k, 1/2 of the time we get nothing, so 210k + 40k = 250k, which again is the same as splitting it down the middle initially.  \n",
    "\n",
    "There is no way to improve upon the 250k expected value, but it does not matter what you choose initially, as long as the stick you give is less than or equal to length 0.5 because then you can always split the stick again to length 0.5 and whatever remainder you have left. In fact you can split the stick infinite amount of time so long as you end with a stick of length 0.5 you will have the same expected value.  \n",
    "\n",
    "In the one break scenario, P was the probability that your stick was greater than the genie's stick, and (1-P)\\*1,000,000 was the reward for winning. That means we were trying to maximize the expected reward which had the equation P \\* (1-P) \\* 1,000,000. You can graph this to see where the maximum occurs, or you can take the derivative with respect to P and set it to zero to find a local min/max. \n",
    "\n",
    "$$ { 0 = \\frac{d}{dP} \\left( P\\left(1-P\\right) \\right) } $$\n",
    "$$ { 0 = \\frac{d}{dP} \\left( P-P^2 \\right) } $$\n",
    "$$ { 0 = 1-2P } $$\n",
    "$$ { P = \\frac{1}{2} } $$\n",
    "\n",
    "Now is this a local min or max? If you take the second derivative, you see that -2 < 0, so the function is concave down, which means that P = 0.5 is a local max.  "
   ]
  },
  {
   "cell_type": "code",
   "execution_count": 85,
   "id": "ed7bd936-bc74-4d90-94ae-9ae57b0aff3f",
   "metadata": {},
   "outputs": [
    {
     "data": {
      "image/png": "[encoded data removed]",
      "text/plain": [
       "<Figure size 432x288 with 1 Axes>"
      ]
     },
     "metadata": {
      "needs_background": "light"
     },
     "output_type": "display_data"
    }
   ],
   "source": [
    "# graphing the equation P * (1-P)\n",
    "x = np.linspace(start=0, stop=1, num=100)\n",
    "y = x*(1-x)\n",
    "sns.lineplot(x=x, y=y)\n",
    "plt.show()"
   ]
  },
  {
   "cell_type": "markdown",
   "id": "3417b62f-d83a-463b-86b2-9742b0d8499c",
   "metadata": {},
   "source": [
    "So what happens for the case of two breaks. Well let's call the first break P and the second break Q.  \n",
    "P*(1-P) wins if P > g_stick. If P < g_stick, then we have Q*(1-P-Q).\n",
    "So the expected reward is \n",
    "\n",
    "$$ P*(1-P)+(Q-P)*(1-P-Q) = P-P*P+Q-QP-Q*Q-P+P*P+QP $$\n",
    "$$ = Q-Q*Q $$\n",
    "$$ = Q*(1-Q) $$\n",
    "\n",
    "If you take the derivative with respect to Q, you get that Q = 0.5, the exact same way we solved for the one break problem. This process will repeat recursively! As long as you end with some stick being of length 0.5, then your expected value will be the same as if you started with breaking the stick at 0.5 in the first place."
   ]
  }
 ],
 "metadata": {
  "kernelspec": {
   "display_name": "Python (riddler)",
   "language": "python",
   "name": "riddler"
  },
  "language_info": {
   "codemirror_mode": {
    "name": "ipython",
    "version": 3
   },
   "file_extension": ".py",
   "mimetype": "text/x-python",
   "name": "python",
   "nbconvert_exporter": "python",
   "pygments_lexer": "ipython3",
   "version": "3.10.0"
  }
 },
 "nbformat": 4,
 "nbformat_minor": 5
}
