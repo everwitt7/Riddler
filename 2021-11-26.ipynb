{
 "cells": [
  {
   "cell_type": "markdown",
   "id": "ed8d9fed-acbb-4af4-90b9-897523b41054",
   "metadata": {},
   "source": [
    "## November 26, 2021\n",
    "https://fivethirtyeight.com/features/can-you-win-a-lifetime-supply-of-cranberry-sauce/"
   ]
  },
  {
   "cell_type": "code",
   "execution_count": 1,
   "id": "92ed5c41-3280-49ad-a027-007c8ff78901",
   "metadata": {},
   "outputs": [],
   "source": [
    "import numpy as np"
   ]
  },
  {
   "cell_type": "markdown",
   "id": "ae583948-49b1-42bf-81a7-16ac740b8926",
   "metadata": {},
   "source": [
    "### Riddler Express  \n",
    "From Keith Wynrow comes a clever little puzzle that stumped a few folks on social media:\n",
    "\n",
    "On the Food Network’s latest game show, Cranberries or Bust, you have a choice between two doors: A and B. One door has a lifetime supply of cranberry sauce behind it, while the other door has absolutely nothing behind it. And boy, do you love cranberry sauce.\n",
    "\n",
    "Of course, there’s a twist. The host presents you with a coin with two sides, marked A and B, which correspond to each door. The host tells you that the coin is weighted in favor of the cranberry door — without telling you which door that is — and that door’s letter will turn up 60 percent of the time. For example, if the sauce is behind door A, then the coin will turn up A 60 percent of the time and B the remaining 40 percent of the time.\n",
    "\n",
    "You can flip the coin twice, after which you must make your selection. Assuming you optimize your strategy, what are your chances of choosing the door with the cranberry sauce?\n",
    "\n",
    "Extra credit: Instead of two flips, what if you are allowed three or four flips? Now what are your chances of choosing the door with the cranberry sauce?"
   ]
  },
  {
   "cell_type": "code",
   "execution_count": 4,
   "id": "18023696-892e-4cbe-8b5d-c4413d2d3c65",
   "metadata": {},
   "outputs": [
    {
     "data": {
      "text/plain": [
       "array([2, 1, 2, 1, 1, 2, 0, 2, 1, 1, 2, 2, 1, 2, 1, 1, 0, 1, 1, 1, 2, 2,\n",
       "       2, 0, 1, 1, 0, 1, 2, 2, 2, 1, 2, 1, 0, 1, 1, 2, 1, 1, 1, 2, 1, 1,\n",
       "       0, 2, 0, 2, 0, 2, 1, 1, 1, 1, 1, 1, 1, 2, 1, 2, 1, 1, 2, 2, 1, 2,\n",
       "       1, 1, 1, 1, 1, 1, 1, 0, 0, 0, 1, 1, 1, 1, 0, 1, 2, 1, 1, 1, 2, 2,\n",
       "       0, 2, 1, 0, 2, 2, 2, 1, 0, 2, 2, 1])"
      ]
     },
     "execution_count": 4,
     "metadata": {},
     "output_type": "execute_result"
    }
   ],
   "source": [
    "# Simulate Reality\n",
    "p = 0.6\n",
    "trials = 100\n",
    "\n",
    "# Binomial with n=2 flips and p=0.6\n",
    "x = np.random.binomial(2, p, trials)\n",
    "x\n",
    "# best strategy, guess the coin that comes first (this is not the case for n=2 or 3, then it is guess the coin you see the most)\n",
    "\n",
    "# Select the coin flipped twice, or if 50/50 then guess\n",
    "# (.6*.6)*1 + (.6*.4)*1 + (.4*.6)*0 + (.4*.4)*0 = 0.6\n",
    "# (.6*.6*.6)*1 + (3*.6*.6*.4)*1 + (3*.6*.4*.4)*0 + (.4*.4*.4)*0 = 0.648\n",
    "# Can write this in terms of combinaions!"
   ]
  },
  {
   "cell_type": "markdown",
   "id": "fcdafb59-a79b-4e1d-9421-dda78546cdbb",
   "metadata": {},
   "source": [
    "### Riddler Classic\n",
    "Trig the turkey cannot fly. And so, instead of flying, he decides to jump as far as he can with a running start up one of the famed Sinusoidal Hills, all of which are precisely the same size.\n",
    "\n",
    "Trig knows that he cannot jump a horizontal distance of more than two hills. Also, he prefers a smooth takeoff and landing. That is, when he takes off from the ground and lands on it again, the slope of his parabolic trajectory through the air must perfectly match the instantaneous slope of the ground beneath him.\n",
    "\n",
    "The animation below shows a jump where the takeoff and landing are precisely 1.2 hills apart."
   ]
  },
  {
   "cell_type": "code",
   "execution_count": null,
   "id": "b5b7b17d-d6cb-467b-b262-7b56e9ea4ca7",
   "metadata": {},
   "outputs": [],
   "source": []
  }
 ],
 "metadata": {
  "kernelspec": {
   "display_name": "Python (riddler)",
   "language": "python",
   "name": "riddler"
  },
  "language_info": {
   "codemirror_mode": {
    "name": "ipython",
    "version": 3
   },
   "file_extension": ".py",
   "mimetype": "text/x-python",
   "name": "python",
   "nbconvert_exporter": "python",
   "pygments_lexer": "ipython3",
   "version": "3.10.0"
  }
 },
 "nbformat": 4,
 "nbformat_minor": 5
}
